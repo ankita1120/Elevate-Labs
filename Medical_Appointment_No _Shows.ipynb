{
 "cells": [
  {
   "cell_type": "code",
   "execution_count": 23,
   "id": "991834ad-ebc7-42fc-aac4-642d2cf9188d",
   "metadata": {},
   "outputs": [
    {
     "name": "stdout",
     "output_type": "stream",
     "text": [
      "✅ Cleaning complete. Summary of changes:\n",
      "{'Duplicates removed': 0, 'Columns renamed': ['patientid', 'appointmentid', 'gender', 'scheduledday', 'appointmentday', 'age', 'neighbourhood', 'scholarship', 'hipertension', 'diabetes', 'alcoholism', 'handcap', 'sms_received', 'no_show'], 'Date columns converted': ['scheduledday', 'appointmentday'], 'Standardized columns': ['gender', 'no_show'], 'Data type fixes': {'patientid': 'int64'}}\n"
     ]
    }
   ],
   "source": [
    "import pandas as pd\n",
    "\n",
    "\n",
    "# Load the dataset\n",
    "file_path = '/Users/ankita/Downloads/KaggleV2-May-2016.csv'\n",
    "df = pd.read_csv(file_path)\n",
    "\n",
    "# Step 1: Rename columns to be lowercase with underscores\n",
    "df.columns = df.columns.str.strip().str.lower().str.replace(\"-\", \"_\").str.replace(\" \", \"_\")\n",
    "\n",
    "# Step 2: Convert date columns to datetime\n",
    "df['scheduledday'] = pd.to_datetime(df['scheduledday'], errors='coerce')\n",
    "df['appointmentday'] = pd.to_datetime(df['appointmentday'], errors='coerce')\n",
    "\n",
    "# Step 3: Standardize text values\n",
    "df['gender'] = df['gender'].str.upper().str.strip()\n",
    "df['no_show'] = df['no_show'].str.strip().str.capitalize()\n",
    "\n",
    "# Step 4: Remove duplicate rows\n",
    "df_before = df.shape[0]\n",
    "df = df.drop_duplicates()\n",
    "df_after = df.shape[0]\n",
    "duplicates_removed = df_before - df_after\n",
    "\n",
    "# Step 5: Fix data types\n",
    "df['patientid'] = df['patientid'].astype('int64')  # Convert from float to int for accuracy\n",
    "\n",
    "# Step 6: Save the cleaned file\n",
    "cleaned_file_path = '/Users/ankita/Downloads/cleaned_data.csv'\n",
    "df.to_csv(cleaned_file_path, index=False, encoding='utf-8')\n",
    "\n",
    "# Optional: Print summary of changes\n",
    "summary = {\n",
    "    \"Duplicates removed\": duplicates_removed,\n",
    "    \"Columns renamed\": list(df.columns),\n",
    "    \"Date columns converted\": [\"scheduledday\", \"appointmentday\"],\n",
    "    \"Standardized columns\": [\"gender\", \"no_show\"],\n",
    "    \"Data type fixes\": {\"patientid\": \"int64\"}\n",
    "}\n",
    "\n",
    "print(\"✅ Cleaning complete. Summary of changes:\")\n",
    "print(summary)\n",
    "\n",
    "\n",
    "\n",
    "\n"
   ]
  },
  {
   "cell_type": "code",
   "execution_count": null,
   "id": "7ace48ff-ee8d-473e-8e41-e3e3f4b3f13a",
   "metadata": {},
   "outputs": [],
   "source": []
  }
 ],
 "metadata": {
  "kernelspec": {
   "display_name": "Python [conda env:base] *",
   "language": "python",
   "name": "conda-base-py"
  },
  "language_info": {
   "codemirror_mode": {
    "name": "ipython",
    "version": 3
   },
   "file_extension": ".py",
   "mimetype": "text/x-python",
   "name": "python",
   "nbconvert_exporter": "python",
   "pygments_lexer": "ipython3",
   "version": "3.12.7"
  }
 },
 "nbformat": 4,
 "nbformat_minor": 5
}
