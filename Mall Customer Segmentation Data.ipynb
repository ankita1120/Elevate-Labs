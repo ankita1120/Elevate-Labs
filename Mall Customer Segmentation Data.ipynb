{
 "cells": [
  {
   "cell_type": "code",
   "execution_count": 7,
   "id": "4a74b5d2-09cc-4d8a-9fc4-e546e51a4861",
   "metadata": {},
   "outputs": [],
   "source": [
    "import pandas as pd\n",
    "\n",
    "# Load the dataset\n",
    "file_path = \"/Users/ankita/Downloads/Mall_Customers.csv\"  # Update path if needed\n",
    "df_raw = pd.read_csv(file_path)\n",
    "\n",
    "# Step 1: Check for duplicate rows\n",
    "duplicates = df_raw.duplicated().sum()\n",
    "\n",
    "# Step 2: Rename columns to be lowercase with underscores and clean special characters\n",
    "df_clean = df_raw.copy()\n",
    "df_clean.columns = (\n",
    "    df_clean.columns\n",
    "    .str.strip()\n",
    "    .str.lower()\n",
    "    .str.replace(' ', '_')\n",
    "    .str.replace('(', '')\n",
    "    .str.replace(')', '')\n",
    ")\n"
   ]
  },
  {
   "cell_type": "code",
   "execution_count": 9,
   "id": "64c27826-51a7-4995-8e47-6c810d26e75d",
   "metadata": {},
   "outputs": [
    {
     "name": "stdout",
     "output_type": "stream",
     "text": [
      "Cleaning Summary:\n",
      "Duplicates removed: 0\n",
      "New column names: ['customerid', 'gender', 'age', 'annual_income_k$', 'spending_score_1-100']\n",
      "Unique gender values: ['Male', 'Female']\n"
     ]
    }
   ],
   "source": [
    "# Step 3: Standardize text values in the 'gender' column\n",
    "df_clean['gender'] = df_clean['gender'].str.strip().str.capitalize()\n",
    "\n",
    "# Step 4: Remove duplicates if any\n",
    "df_clean = df_clean.drop_duplicates()\n",
    "\n",
    "# Optional: Save the cleaned dataset\n",
    "df_clean.to_csv(\"Mall_Customers_Cleaned.csv\", index=False)\n",
    "\n",
    "# Summary of cleaning process\n",
    "summary = {\n",
    "    \"Duplicates removed\": duplicates,\n",
    "    \"New column names\": list(df_clean.columns),\n",
    "    \"Unique gender values\": df_clean['gender'].unique().tolist()\n",
    "}\n",
    "\n",
    "# Print summary\n",
    "print(\"Cleaning Summary:\")\n",
    "for k, v in summary.items():\n",
    "    print(f\"{k}: {v}\")"
   ]
  },
  {
   "cell_type": "code",
   "execution_count": null,
   "id": "a8617fe8-7633-4c40-8d8f-3c9630ec0993",
   "metadata": {},
   "outputs": [],
   "source": []
  }
 ],
 "metadata": {
  "kernelspec": {
   "display_name": "Python [conda env:base] *",
   "language": "python",
   "name": "conda-base-py"
  },
  "language_info": {
   "codemirror_mode": {
    "name": "ipython",
    "version": 3
   },
   "file_extension": ".py",
   "mimetype": "text/x-python",
   "name": "python",
   "nbconvert_exporter": "python",
   "pygments_lexer": "ipython3",
   "version": "3.12.7"
  }
 },
 "nbformat": 4,
 "nbformat_minor": 5
}
