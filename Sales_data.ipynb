{
 "cells": [
  {
   "cell_type": "code",
   "execution_count": 1,
   "id": "29cd9ad0-ff3d-4d20-9c70-8b2b6cfa2e93",
   "metadata": {},
   "outputs": [
    {
     "name": "stdout",
     "output_type": "stream",
     "text": [
      "CLEANING SUMMARY:\n",
      "Original shape: (1000, 10)\n",
      "Cleaned shape: (1000, 10)\n",
      "Duplicates removed: 0\n",
      "Missing values (by column): {}\n"
     ]
    }
   ],
   "source": [
    "import pandas as pd\n",
    "\n",
    "# Load the dataset\n",
    "file_path = \"/Users/ankita/Downloads/Sales-Export_2019-2020.csv\"\n",
    "df_sales_raw = pd.read_csv(file_path)\n",
    "\n",
    "# Step 1: Check for duplicate rows\n",
    "duplicates = df_sales_raw.duplicated().sum()\n",
    "\n",
    "# Step 2: Rename columns to lowercase, use underscores, and remove special characters\n",
    "df_sales_clean = df_sales_raw.copy()\n",
    "df_sales_clean.columns = (\n",
    "    df_sales_clean.columns\n",
    "    .str.strip()\n",
    "    .str.lower()\n",
    "    .str.replace(' ', '_')\n",
    "    .str.replace('(', '')\n",
    "    .str.replace(')', '')\n",
    ")\n",
    "\n",
    "# Step 3: Standardize text fields\n",
    "text_columns = df_sales_clean.select_dtypes(include='object').columns\n",
    "for col in text_columns:\n",
    "    df_sales_clean[col] = df_sales_clean[col].astype(str).str.strip()\n",
    "\n",
    "# Step 4: Convert date columns to datetime where possible\n",
    "for col in df_sales_clean.columns:\n",
    "    if 'date' in col:\n",
    "        try:\n",
    "            df_sales_clean[col] = pd.to_datetime(df_sales_clean[col], errors='coerce')\n",
    "        except Exception as e:\n",
    "            print(f\"Couldn't convert {col} to datetime: {e}\")\n",
    "\n",
    "# Step 5: Report missing values\n",
    "missing_summary = df_sales_clean.isnull().sum().sort_values(ascending=False)\n",
    "\n",
    "# Step 6: Drop duplicate rows if any\n",
    "df_sales_clean = df_sales_clean.drop_duplicates()\n",
    "\n",
    "# Step 7: Save the cleaned dataset\n",
    "df_sales_clean.to_csv(\"Sales_Export_2019_2020_Cleaned.csv\", index=False)\n",
    "\n",
    "# Summary report\n",
    "summary = {\n",
    "    \"Original shape\": df_sales_raw.shape,\n",
    "    \"Cleaned shape\": df_sales_clean.shape,\n",
    "    \"Duplicates removed\": duplicates,\n",
    "    \"Missing values (by column)\": missing_summary[missing_summary > 0].to_dict()\n",
    "}\n",
    "\n",
    "print(\"CLEANING SUMMARY:\")\n",
    "for key, value in summary.items():\n",
    "    print(f\"{key}: {value}\")"
   ]
  },
  {
   "cell_type": "code",
   "execution_count": null,
   "id": "2761044f-80cd-4bbf-8869-ec0b3d119f68",
   "metadata": {},
   "outputs": [],
   "source": []
  }
 ],
 "metadata": {
  "kernelspec": {
   "display_name": "Python [conda env:base] *",
   "language": "python",
   "name": "conda-base-py"
  },
  "language_info": {
   "codemirror_mode": {
    "name": "ipython",
    "version": 3
   },
   "file_extension": ".py",
   "mimetype": "text/x-python",
   "name": "python",
   "nbconvert_exporter": "python",
   "pygments_lexer": "ipython3",
   "version": "3.12.7"
  }
 },
 "nbformat": 4,
 "nbformat_minor": 5
}
