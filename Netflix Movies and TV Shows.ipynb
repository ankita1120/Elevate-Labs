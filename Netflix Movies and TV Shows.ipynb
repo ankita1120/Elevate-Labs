{
 "cells": [
  {
   "cell_type": "code",
   "execution_count": 1,
   "id": "f3ed054f-9d0f-4292-a25a-9dbcc735a04b",
   "metadata": {},
   "outputs": [
    {
     "name": "stdout",
     "output_type": "stream",
     "text": [
      "Cleaning Summary:\n",
      "Original shape: (8807, 12)\n",
      "Cleaned shape: (8807, 12)\n",
      "Duplicates removed: 0\n",
      "Missing values (by column): {'date_added': 10}\n"
     ]
    }
   ],
   "source": [
    "import pandas as pd\n",
    "\n",
    "# Load the dataset\n",
    "file_path = \"/Users/ankita/Downloads/netflix_titles.csv\"\n",
    "df_netflix_raw = pd.read_csv(file_path)\n",
    "\n",
    "# Step 1: Check for duplicate rows\n",
    "duplicates = df_netflix_raw.duplicated().sum()\n",
    "\n",
    "# Step 2: Rename columns to be lowercase with underscores and remove special characters\n",
    "df_netflix_clean = df_netflix_raw.copy()\n",
    "df_netflix_clean.columns = (\n",
    "    df_netflix_clean.columns\n",
    "    .str.strip()\n",
    "    .str.lower()\n",
    "    .str.replace(' ', '_')\n",
    "    .str.replace('(', '')\n",
    "    .str.replace(')', '')\n",
    ")\n",
    "\n",
    "# Step 3: Standardize text fields\n",
    "text_columns = df_netflix_clean.select_dtypes(include='object').columns\n",
    "for col in text_columns:\n",
    "    df_netflix_clean[col] = df_netflix_clean[col].astype(str).str.strip()\n",
    "\n",
    "# Step 4: Convert date_added to datetime\n",
    "if 'date_added' in df_netflix_clean.columns:\n",
    "    df_netflix_clean['date_added'] = pd.to_datetime(df_netflix_clean['date_added'], errors='coerce')\n",
    "\n",
    "# Step 5: Report missing values\n",
    "missing_summary = df_netflix_clean.isnull().sum().sort_values(ascending=False)\n",
    "\n",
    "# Step 6: Drop duplicates\n",
    "df_netflix_clean = df_netflix_clean.drop_duplicates()\n",
    "\n",
    "# Step 7: Save the cleaned dataset\n",
    "df_netflix_clean.to_csv(\"netflix_titles_cleaned.csv\", index=False)\n",
    "\n",
    "# Summary\n",
    "summary = {\n",
    "    \"Original shape\": df_netflix_raw.shape,\n",
    "    \"Cleaned shape\": df_netflix_clean.shape,\n",
    "    \"Duplicates removed\": duplicates,\n",
    "    \"Missing values (by column)\": missing_summary[missing_summary > 0].to_dict()\n",
    "}\n",
    "\n",
    "print(\"Cleaning Summary:\")\n",
    "for key, value in summary.items():\n",
    "    print(f\"{key}: {value}\")"
   ]
  },
  {
   "cell_type": "code",
   "execution_count": null,
   "id": "345e7053-24e3-4466-998d-c39acea8e109",
   "metadata": {},
   "outputs": [],
   "source": []
  }
 ],
 "metadata": {
  "kernelspec": {
   "display_name": "Python [conda env:base] *",
   "language": "python",
   "name": "conda-base-py"
  },
  "language_info": {
   "codemirror_mode": {
    "name": "ipython",
    "version": 3
   },
   "file_extension": ".py",
   "mimetype": "text/x-python",
   "name": "python",
   "nbconvert_exporter": "python",
   "pygments_lexer": "ipython3",
   "version": "3.12.7"
  }
 },
 "nbformat": 4,
 "nbformat_minor": 5
}
