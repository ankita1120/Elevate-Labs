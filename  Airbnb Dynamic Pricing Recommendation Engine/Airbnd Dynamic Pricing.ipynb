{
 "cells": [
  {
   "metadata": {
    "ExecuteTime": {
     "end_time": "2025-05-08T08:12:47.168766Z",
     "start_time": "2025-05-08T08:12:47.025154Z"
    }
   },
   "cell_type": "code",
   "source": [
    "import pandas as pd\n",
    "import numpy as np\n",
    "from sklearn.linear_model import LinearRegression\n",
    "from sklearn.model_selection import train_test_split\n",
    "from sklearn.preprocessing import OneHotEncoder\n",
    "\n",
    "# Load the dataset\n",
    "df = pd.read_csv('AB_NYC_2019.csv')\n",
    "\n",
    "# Data cleaning\n",
    "df = df[df['price'] < 1000]\n",
    "df = df.dropna(subset=['reviews_per_month', 'last_review'])\n",
    "\n",
    "# Convert last_review to datetime and extract month\n",
    "df['last_review'] = pd.to_datetime(df['last_review'], errors='coerce')\n",
    "df['month'] = df['last_review'].dt.month\n",
    "df['review_score'] = df['number_of_reviews'] * df['reviews_per_month']\n",
    "df = df.fillna(0)\n",
    "\n",
    "# Encode categorical variables\n",
    "df_encoded = pd.get_dummies(df, columns=['neighbourhood_group', 'room_type'], drop_first=True)\n",
    "\n",
    "# Feature selection\n",
    "features = ['minimum_nights', 'availability_365', 'reviews_per_month', 'review_score', 'month'] + \\\n",
    "           [col for col in df_encoded.columns if 'neighbourhood_group_' in col or 'room_type_' in col]\n",
    "X = df_encoded[features]\n",
    "y = df_encoded['price']\n",
    "\n",
    "# Train/test split\n",
    "X_train, X_test, y_train, y_test = train_test_split(X, y, test_size=0.2, random_state=42)\n",
    "\n",
    "# Fit model\n",
    "model = LinearRegression()\n",
    "model.fit(X_train, y_train)\n",
    "\n",
    "# Prepare example listings\n",
    "example_listings = pd.DataFrame([\n",
    "    {'minimum_nights': 3, 'availability_365': 180, 'reviews_per_month': 3.0, 'review_score': 3.0 * 10, 'month': 3,\n",
    "     'neighbourhood_group_Brooklyn': 1, 'neighbourhood_group_Manhattan': 0,\n",
    "     'neighbourhood_group_Queens': 0, 'neighbourhood_group_Staten Island': 0,\n",
    "     'room_type_Private room': 1, 'room_type_Shared room': 0},\n",
    "\n",
    "    {'minimum_nights': 5, 'availability_365': 360, 'reviews_per_month': 5.5, 'review_score': 5.5 * 25, 'month': 6,\n",
    "     'neighbourhood_group_Brooklyn': 0, 'neighbourhood_group_Manhattan': 1,\n",
    "     'neighbourhood_group_Queens': 0, 'neighbourhood_group_Staten Island': 0,\n",
    "     'room_type_Private room': 0, 'room_type_Shared room': 0},\n",
    "\n",
    "    {'minimum_nights': 2, 'availability_365': 60, 'reviews_per_month': 1.2, 'review_score': 1.2 * 5, 'month': 11,\n",
    "     'neighbourhood_group_Brooklyn': 0, 'neighbourhood_group_Manhattan': 0,\n",
    "     'neighbourhood_group_Queens': 0, 'neighbourhood_group_Staten Island': 1,\n",
    "     'room_type_Private room': 0, 'room_type_Shared room': 1}\n",
    "])\n",
    "\n",
    "# Fill in missing columns with 0 (if any)\n",
    "for col in X.columns:\n",
    "    if col not in example_listings.columns:\n",
    "        example_listings[col] = 0\n",
    "\n",
    "# Ensure order matches\n",
    "example_listings = example_listings[X.columns]\n",
    "\n",
    "# Predict prices\n",
    "predicted_prices = model.predict(example_listings)\n",
    "predicted_prices\n",
    "\n"
   ],
   "id": "2a5940a43d3d6823",
   "outputs": [
    {
     "data": {
      "text/plain": [
       "array([ 76.8662456 , 240.39658087,   4.92658252])"
      ]
     },
     "execution_count": 4,
     "metadata": {},
     "output_type": "execute_result"
    }
   ],
   "execution_count": 4
  }
 ],
 "metadata": {
  "kernelspec": {
   "display_name": "Python [conda env:base] *",
   "language": "python",
   "name": "conda-base-py"
  },
  "language_info": {
   "codemirror_mode": {
    "name": "ipython",
    "version": 3
   },
   "file_extension": ".py",
   "mimetype": "text/x-python",
   "name": "python",
   "nbconvert_exporter": "python",
   "pygments_lexer": "ipython3",
   "version": "3.12.7"
  }
 },
 "nbformat": 4,
 "nbformat_minor": 5
}
